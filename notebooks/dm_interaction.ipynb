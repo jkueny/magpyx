{
 "cells": [
  {
   "cell_type": "markdown",
   "metadata": {},
   "source": [
    "This notebook demonstrates most of the interactive DM functionality in `magpyx`"
   ]
  },
  {
   "cell_type": "code",
   "execution_count": 1,
   "metadata": {},
   "outputs": [],
   "source": [
    "%matplotlib widget\n",
    "import matplotlib.pyplot as plt\n",
    "plt.rcParams['figure.dpi'] = 100\n",
    "plt.rcParams['image.origin'] = 'lower'\n",
    "\n",
    "import numpy as np\n",
    "from astropy.io import fits\n",
    "from magpyx.dm import t2w_offload, connection_doctor, project_zernikes, eye_doctor\n",
    "from magpyx import utils\n",
    "import purepyindi as indi\n",
    "\n",
    "def figure(figsize=None):\n",
    "    'Temporary workaround for traditional figure behaviour with the ipympl widget backend'\n",
    "    fig = plt.original_figure()\n",
    "    if figsize:\n",
    "        w, h =  figsize\n",
    "    else:\n",
    "        w, h = plt.rcParams['figure.figsize']\n",
    "    fig.canvas.layout.height = str(h) + 'in'\n",
    "    fig.canvas.layout.width = str(w) + 'in'\n",
    "    return fig\n",
    "\n",
    "try:\n",
    "    plt.original_figure\n",
    "except AttributeError:\n",
    "    plt.original_figure = plt.figure\n",
    "    plt.figure = figure"
   ]
  },
  {
   "cell_type": "markdown",
   "metadata": {},
   "source": [
    "# 2K Connection Doctor"
   ]
  },
  {
   "cell_type": "code",
   "execution_count": 2,
   "metadata": {},
   "outputs": [],
   "source": [
    "# mock up zrespM and respM_ref\n",
    "zrespM = np.random.random((2500, 10, 10))\n",
    "zrespM_ref = np.random.random((2500, 10, 10))\n",
    "\n",
    "# use ALPAO zrespM to generalize to zrespMs of arbitrary size and no knowledge of DM shape... This might not be possible."
   ]
  },
  {
   "cell_type": "code",
   "execution_count": 3,
   "metadata": {},
   "outputs": [
    {
     "name": "stderr",
     "output_type": "stream",
     "text": [
      "WARNING:connection_doctor:Possible Bad Connections:\n",
      "WARNING:connection_doctor:(Megarray-Samtec: # Flagged)\n",
      "WARNING:connection_doctor:A-1A: 7\n",
      "WARNING:connection_doctor:A-1B: 16\n",
      "WARNING:connection_doctor:B-1A: 12\n",
      "WARNING:connection_doctor:B-1B: 11\n",
      "WARNING:connection_doctor:E-1A: 15\n",
      "WARNING:connection_doctor:E-1B: 10\n",
      "WARNING:connection_doctor:F-1A: 13\n",
      "WARNING:connection_doctor:F-1B: 13\n"
     ]
    },
    {
     "data": {
      "application/vnd.jupyter.widget-view+json": {
       "model_id": "703dffe8f6d141609ff7f078c9261744",
       "version_major": 2,
       "version_minor": 0
      },
      "text/plain": [
       "Canvas(toolbar=Toolbar(toolitems=[('Home', 'Reset original view', 'home', 'home'), ('Back', 'Back to previous …"
      ]
     },
     "metadata": {},
     "output_type": "display_data"
    },
    {
     "data": {
      "application/vnd.jupyter.widget-view+json": {
       "model_id": "a3d0baec1d124f789f943816ab49e4eb",
       "version_major": 2,
       "version_minor": 0
      },
      "text/plain": [
       "Canvas(toolbar=Toolbar(toolitems=[('Home', 'Reset original view', 'home', 'home'), ('Back', 'Back to previous …"
      ]
     },
     "metadata": {},
     "output_type": "display_data"
    }
   ],
   "source": [
    "flagged_acts, flagged_connections = connection_doctor.check_actuator_functionality_2K(zrespM, zrespM_ref,\n",
    "                                                                             actuator_mapfile='actuator_mapping_2019_09_27.csv',\n",
    "                                                                             display=True,\n",
    "                                                                             display_samtecs=True)"
   ]
  },
  {
   "cell_type": "code",
   "execution_count": 4,
   "metadata": {},
   "outputs": [
    {
     "data": {
      "application/vnd.jupyter.widget-view+json": {
       "model_id": "",
       "version_major": 2,
       "version_minor": 0
      },
      "text/plain": [
       "Canvas(toolbar=Toolbar(toolitems=[('Home', 'Reset original view', 'home', 'home'), ('Back', 'Back to previous …"
      ]
     },
     "metadata": {},
     "output_type": "display_data"
    },
    {
     "data": {
      "text/plain": [
       "(<Figure size 640x480 with 2 Axes>,\n",
       " <matplotlib.axes._subplots.AxesSubplot at 0x7f18e0faeef0>)"
      ]
     },
     "execution_count": 4,
     "metadata": {},
     "output_type": "execute_result"
    }
   ],
   "source": [
    "connection_doctor.display_actuator_connections(filename='actuator_mapping_2019_09_27.csv')"
   ]
  },
  {
   "cell_type": "markdown",
   "metadata": {},
   "source": [
    "# ALPAO Connection Doctor"
   ]
  },
  {
   "cell_type": "code",
   "execution_count": 6,
   "metadata": {},
   "outputs": [
    {
     "data": {
      "application/vnd.jupyter.widget-view+json": {
       "model_id": "",
       "version_major": 2,
       "version_minor": 0
      },
      "text/plain": [
       "Canvas(toolbar=Toolbar(toolitems=[('Home', 'Reset original view', 'home', 'home'), ('Back', 'Back to previous …"
      ]
     },
     "metadata": {},
     "output_type": "display_data"
    },
    {
     "name": "stderr",
     "output_type": "stream",
     "text": [
      "WARNING:connection_doctor:Flagged 69 connections!\n"
     ]
    }
   ],
   "source": [
    "zrespM = 'zrespM_2019-03-20_23:43:03.fits'\n",
    "zrespM_ref = np.random.random((121, 120, 120))\n",
    "flagged_acts = connection_doctor.check_actuator_functionality_ALPAO(zrespM, zrespM_ref, display=True,)"
   ]
  },
  {
   "cell_type": "markdown",
   "metadata": {},
   "source": [
    "# Tweeter-Woofer Offload "
   ]
  },
  {
   "cell_type": "code",
   "execution_count": 7,
   "metadata": {},
   "outputs": [],
   "source": [
    "#tweeter_respM = np.random.random((2500, 120, 120))\n",
    "#fits.writeto('zrespM_tweeter.fits', tweeter_respM)"
   ]
  },
  {
   "cell_type": "code",
   "execution_count": 8,
   "metadata": {},
   "outputs": [
    {
     "name": "stderr",
     "output_type": "stream",
     "text": [
      "INFO:offload:Thresholding after first 97 singular values.\n",
      "INFO:offload:Mode #: tweeter RMS ---> woofer RMS (microns)\n",
      "INFO:offload:Mode 0: 1.01 ---> 1157.95\n",
      "INFO:offload:Mode 1: 1.01 ---> 1445.88\n",
      "INFO:offload:Mode 2: 1.02 ---> 1131.19\n",
      "INFO:offload:Mode 3: 1.04 ---> 1380.65\n",
      "INFO:offload:Mode 4: 1.02 ---> 1479.57\n",
      "INFO:offload:Mode 5: 1.03 ---> 1381.66\n",
      "INFO:offload:Mode 6: 1.03 ---> 1098.58\n",
      "INFO:offload:Mode 7: 1.04 ---> 1380.75\n",
      "INFO:offload:Mode 8: 1.04 ---> 1568.80\n",
      "INFO:offload:Mode 9: 1.04 ---> 1319.64\n",
      "INFO:offload:Mode 10: 1.02 ---> 1056.60\n",
      "INFO:offload:Mode 11: 1.06 ---> 1340.17\n",
      "INFO:offload:Mode 12: 1.04 ---> 1338.19\n",
      "INFO:offload:Mode 13: 1.06 ---> 1019.11\n",
      "INFO:offload:Mode 14: 1.04 ---> 1266.33\n",
      "INFO:offload:Mode 15: 1.04 ---> 1430.07\n",
      "INFO:offload:Mode 16: 1.04 ---> 1296.00\n",
      "INFO:offload:Mode 17: 1.04 ---> 1384.31\n",
      "INFO:offload:Mode 18: 1.06 ---> 1534.05\n",
      "INFO:offload:Mode 19: 1.06 ---> 1321.43\n",
      "INFO:offload:Mode 20: 1.03 ---> 1397.17\n",
      "INFO:offload:Mode 21: 1.05 ---> 1265.67\n",
      "INFO:offload:Mode 22: 1.02 ---> 1249.60\n",
      "INFO:offload:Mode 23: 1.05 ---> 1147.16\n",
      "INFO:offload:Mode 24: 1.04 ---> 1473.47\n",
      "INFO:offload:Mode 25: 1.08 ---> 1157.25\n",
      "INFO:offload:Mode 26: 1.06 ---> 1216.98\n",
      "INFO:offload:Mode 27: 1.03 ---> 1370.51\n",
      "INFO:offload:Mode 28: 1.03 ---> 1321.19\n",
      "INFO:offload:Mode 29: 1.03 ---> 1146.72\n",
      "INFO:offload:Mode 30: 1.03 ---> 1010.71\n",
      "INFO:offload:Mode 31: 1.05 ---> 1317.53\n",
      "INFO:offload:Mode 32: 1.04 ---> 1381.86\n",
      "INFO:offload:Mode 33: 1.08 ---> 1275.03\n",
      "INFO:offload:Mode 34: 1.08 ---> 1541.22\n",
      "INFO:offload:Mode 35: 1.02 ---> 1285.07\n"
     ]
    },
    {
     "data": {
      "application/vnd.jupyter.widget-view+json": {
       "model_id": "",
       "version_major": 2,
       "version_minor": 0
      },
      "text/plain": [
       "Canvas(toolbar=Toolbar(toolitems=[('Home', 'Reset original view', 'home', 'home'), ('Back', 'Back to previous …"
      ]
     },
     "metadata": {},
     "output_type": "display_data"
    }
   ],
   "source": [
    "wt_matrix, sing_vals, threshold = t2w_offload.get_offload_matrix('zrespM_2019-03-20_23:43:03.fits', 'zrespM_tweeter.fits',\n",
    "                                          crosscheck=True, display=True, inverse=False, n_threshold=97)"
   ]
  },
  {
   "cell_type": "markdown",
   "metadata": {},
   "source": [
    "# Eye Doctor"
   ]
  },
  {
   "cell_type": "code",
   "execution_count": 11,
   "metadata": {},
   "outputs": [],
   "source": [
    "client = indi.INDIClient('localhost', 7624)\n",
    "client.start()\n",
    "\n",
    "shmim = utils.ImageStream('test')"
   ]
  },
  {
   "cell_type": "markdown",
   "metadata": {},
   "source": [
    "optimize a single mode"
   ]
  },
  {
   "cell_type": "code",
   "execution_count": 15,
   "metadata": {},
   "outputs": [
    {
     "name": "stderr",
     "output_type": "stream",
     "text": [
      "/opt/miniconda3/envs/py37/lib/python3.7/site-packages/scipy/ndimage/measurements.py:1359: RuntimeWarning: invalid value encountered in double_scalars\n",
      "  for dir in range(input.ndim)]\n",
      "/vagrant/vm/magpyx/magpyx/dm/eye_doctor.py:432: RuntimeWarning: invalid value encountered in double_scalars\n",
      "  minima =  - b / (2 * c)\n",
      "INFO:eye_doctor:Mode 1: Optimized mode coefficient from 1.0 to nan microns\n",
      "INFO:eye_doctor:Mode 1: Optimized metric <function get_image_coresum at 0x7f18e2560730> from -0.0 to -0.0\n",
      "INFO:eye_doctor:Mode 2: Optimized mode coefficient from 1.0 to nan microns\n",
      "INFO:eye_doctor:Mode 2: Optimized metric <function get_image_coresum at 0x7f18e2560730> from -0.0 to -0.0\n",
      "INFO:eye_doctor:Mode 3: Optimized mode coefficient from 1.0 to nan microns\n",
      "INFO:eye_doctor:Mode 3: Optimized metric <function get_image_coresum at 0x7f18e2560730> from -0.0 to -0.0\n"
     ]
    }
   ],
   "source": [
    "eye_doctor.eye_doctor(client, 'wooferModes', shmim, 3, [1,2,3], bounds=[-3, 3],\n",
    "                      metric=eye_doctor.get_image_coresum, metric_dict={'radius': 10})"
   ]
  },
  {
   "cell_type": "markdown",
   "metadata": {},
   "source": [
    "optimize a custom range of modes"
   ]
  },
  {
   "cell_type": "code",
   "execution_count": 13,
   "metadata": {},
   "outputs": [
    {
     "name": "stderr",
     "output_type": "stream",
     "text": [
      "INFO:eye_doctor:Mode 3: Optimized mode coefficient from 1.0 to nan microns\n",
      "INFO:eye_doctor:Mode 3: Optimized metric <function get_image_coresum at 0x7f18e2560730> from -0.0 to -0.0\n",
      "INFO:eye_doctor:Mode 1: Optimized mode coefficient from 1.0 to nan microns\n",
      "INFO:eye_doctor:Mode 1: Optimized metric <function get_image_coresum at 0x7f18e2560730> from -0.0 to -0.0\n",
      "INFO:eye_doctor:Mode 2: Optimized mode coefficient from 1.0 to nan microns\n",
      "INFO:eye_doctor:Mode 2: Optimized metric <function get_image_coresum at 0x7f18e2560730> from -0.0 to -0.0\n",
      "INFO:eye_doctor:Mode 3: Optimized mode coefficient from 1.0 to nan microns\n",
      "INFO:eye_doctor:Mode 3: Optimized metric <function get_image_coresum at 0x7f18e2560730> from -0.0 to -0.0\n",
      "INFO:eye_doctor:Mode 1: Optimized mode coefficient from 1.0 to nan microns\n",
      "INFO:eye_doctor:Mode 1: Optimized metric <function get_image_coresum at 0x7f18e2560730> from -0.0 to -0.0\n",
      "INFO:eye_doctor:Mode 2: Optimized mode coefficient from 1.0 to nan microns\n",
      "INFO:eye_doctor:Mode 2: Optimized metric <function get_image_coresum at 0x7f18e2560730> from -0.0 to -0.0\n",
      "INFO:eye_doctor:Mode 1: Optimized mode coefficient from 1.0 to nan microns\n",
      "INFO:eye_doctor:Mode 1: Optimized metric <function get_image_coresum at 0x7f18e2560730> from -0.0 to -0.0\n",
      "INFO:eye_doctor:Mode 3: Optimized mode coefficient from 1.0 to nan microns\n",
      "INFO:eye_doctor:Mode 3: Optimized metric <function get_image_coresum at 0x7f18e2560730> from -0.0 to -0.0\n",
      "INFO:eye_doctor:Mode 2: Optimized mode coefficient from 1.0 to nan microns\n",
      "INFO:eye_doctor:Mode 2: Optimized metric <function get_image_coresum at 0x7f18e2560730> from -0.0 to -0.0\n",
      "INFO:eye_doctor:Mode 1: Optimized mode coefficient from 1.0 to nan microns\n",
      "INFO:eye_doctor:Mode 1: Optimized metric <function get_image_coresum at 0x7f18e2560730> from -0.0 to -0.0\n",
      "INFO:eye_doctor:Mode 3: Optimized mode coefficient from 1.0 to nan microns\n",
      "INFO:eye_doctor:Mode 3: Optimized metric <function get_image_coresum at 0x7f18e2560730> from -0.0 to -0.0\n",
      "INFO:eye_doctor:Mode 2: Optimized mode coefficient from 1.0 to nan microns\n",
      "INFO:eye_doctor:Mode 2: Optimized metric <function get_image_coresum at 0x7f18e2560730> from -0.0 to -0.0\n",
      "INFO:eye_doctor:Mode 2: Optimized mode coefficient from 1.0 to nan microns\n",
      "INFO:eye_doctor:Mode 2: Optimized metric <function get_image_coresum at 0x7f18e2560730> from -0.0 to -0.0\n",
      "INFO:eye_doctor:Mode 3: Optimized mode coefficient from 1.0 to nan microns\n",
      "INFO:eye_doctor:Mode 3: Optimized metric <function get_image_coresum at 0x7f18e2560730> from -0.0 to -0.0\n",
      "INFO:eye_doctor:Mode 1: Optimized mode coefficient from 1.0 to nan microns\n",
      "INFO:eye_doctor:Mode 1: Optimized metric <function get_image_coresum at 0x7f18e2560730> from -0.0 to -0.0\n",
      "INFO:eye_doctor:Mode 3: Optimized mode coefficient from 1.0 to nan microns\n",
      "INFO:eye_doctor:Mode 3: Optimized metric <function get_image_coresum at 0x7f18e2560730> from -0.0 to -0.0\n",
      "INFO:eye_doctor:Mode 1: Optimized mode coefficient from 1.0 to nan microns\n",
      "INFO:eye_doctor:Mode 1: Optimized metric <function get_image_coresum at 0x7f18e2560730> from -0.0 to -0.0\n",
      "INFO:eye_doctor:Mode 2: Optimized mode coefficient from 1.0 to nan microns\n",
      "INFO:eye_doctor:Mode 2: Optimized metric <function get_image_coresum at 0x7f18e2560730> from -0.0 to -0.0\n"
     ]
    }
   ],
   "source": [
    "# get sequence working\n",
    "seq_args = eye_doctor.build_sequence(client, 'wooferModes', shmim, 3, modes=[1,2,3],\n",
    "                                     metric=eye_doctor.get_image_coresum, metric_dict={'radius' : 10})\n",
    "for args in seq_args:\n",
    "    eye_doctor.eye_doctor(*args)"
   ]
  },
  {
   "cell_type": "markdown",
   "metadata": {},
   "source": [
    "perform a \"comprehensive\" optimization"
   ]
  },
  {
   "cell_type": "code",
   "execution_count": 14,
   "metadata": {},
   "outputs": [
    {
     "name": "stderr",
     "output_type": "stream",
     "text": [
      "INFO:eye_doctor:Optimizing focus first!\n",
      "INFO:eye_doctor:Mode 2: Optimized mode coefficient from 1.0 to nan microns\n",
      "INFO:eye_doctor:Mode 2: Optimized metric <function get_image_coresum at 0x7f18e2560730> from -0.0 to -0.0\n",
      "INFO:eye_doctor:Mode 5: Optimized mode coefficient from 1.0 to nan microns\n",
      "INFO:eye_doctor:Mode 5: Optimized metric <function get_image_coresum at 0x7f18e2560730> from -0.0 to -0.0\n",
      "INFO:eye_doctor:Mode 3: Optimized mode coefficient from 1.0 to nan microns\n",
      "INFO:eye_doctor:Mode 3: Optimized metric <function get_image_coresum at 0x7f18e2560730> from -0.0 to -0.0\n",
      "INFO:eye_doctor:Mode 4: Optimized mode coefficient from 1.0 to nan microns\n",
      "INFO:eye_doctor:Mode 4: Optimized metric <function get_image_coresum at 0x7f18e2560730> from -0.0 to -0.0\n",
      "INFO:eye_doctor:Mode 2: Optimized mode coefficient from 1.0 to nan microns\n",
      "INFO:eye_doctor:Mode 2: Optimized metric <function get_image_coresum at 0x7f18e2560730> from -0.0 to -0.0\n",
      "INFO:eye_doctor:Mode 2: Optimized mode coefficient from 1.0 to nan microns\n",
      "INFO:eye_doctor:Mode 2: Optimized metric <function get_image_coresum at 0x7f18e2560730> from -0.0 to -0.0\n",
      "INFO:eye_doctor:Mode 5: Optimized mode coefficient from 1.0 to nan microns\n",
      "INFO:eye_doctor:Mode 5: Optimized metric <function get_image_coresum at 0x7f18e2560730> from -0.0 to -0.0\n",
      "INFO:eye_doctor:Mode 4: Optimized mode coefficient from 1.0 to nan microns\n",
      "INFO:eye_doctor:Mode 4: Optimized metric <function get_image_coresum at 0x7f18e2560730> from -0.0 to -0.0\n",
      "INFO:eye_doctor:Mode 3: Optimized mode coefficient from 1.0 to nan microns\n",
      "INFO:eye_doctor:Mode 3: Optimized metric <function get_image_coresum at 0x7f18e2560730> from -0.0 to -0.0\n",
      "INFO:eye_doctor:Mode 5: Optimized mode coefficient from 1.0 to nan microns\n",
      "INFO:eye_doctor:Mode 5: Optimized metric <function get_image_coresum at 0x7f18e2560730> from -0.0 to -0.0\n",
      "INFO:eye_doctor:Mode 3: Optimized mode coefficient from 1.0 to nan microns\n",
      "INFO:eye_doctor:Mode 3: Optimized metric <function get_image_coresum at 0x7f18e2560730> from -0.0 to -0.0\n",
      "INFO:eye_doctor:Mode 2: Optimized mode coefficient from 1.0 to nan microns\n",
      "INFO:eye_doctor:Mode 2: Optimized metric <function get_image_coresum at 0x7f18e2560730> from -0.0 to -0.0\n",
      "INFO:eye_doctor:Mode 4: Optimized mode coefficient from 1.0 to nan microns\n",
      "INFO:eye_doctor:Mode 4: Optimized metric <function get_image_coresum at 0x7f18e2560730> from -0.0 to -0.0\n",
      "INFO:eye_doctor:Mode 3: Optimized mode coefficient from 1.0 to nan microns\n",
      "INFO:eye_doctor:Mode 3: Optimized metric <function get_image_coresum at 0x7f18e2560730> from -0.0 to -0.0\n",
      "INFO:eye_doctor:Mode 5: Optimized mode coefficient from 1.0 to nan microns\n",
      "INFO:eye_doctor:Mode 5: Optimized metric <function get_image_coresum at 0x7f18e2560730> from -0.0 to -0.0\n",
      "INFO:eye_doctor:Mode 2: Optimized mode coefficient from 1.0 to nan microns\n",
      "INFO:eye_doctor:Mode 2: Optimized metric <function get_image_coresum at 0x7f18e2560730> from -0.0 to -0.0\n",
      "INFO:eye_doctor:Mode 4: Optimized mode coefficient from 1.0 to nan microns\n",
      "INFO:eye_doctor:Mode 4: Optimized metric <function get_image_coresum at 0x7f18e2560730> from -0.0 to -0.0\n",
      "INFO:eye_doctor:Mode 5: Optimized mode coefficient from 1.0 to nan microns\n",
      "INFO:eye_doctor:Mode 5: Optimized metric <function get_image_coresum at 0x7f18e2560730> from -0.0 to -0.0\n",
      "INFO:eye_doctor:Mode 4: Optimized mode coefficient from 1.0 to nan microns\n",
      "INFO:eye_doctor:Mode 4: Optimized metric <function get_image_coresum at 0x7f18e2560730> from -0.0 to -0.0\n",
      "INFO:eye_doctor:Mode 2: Optimized mode coefficient from 1.0 to nan microns\n",
      "INFO:eye_doctor:Mode 2: Optimized metric <function get_image_coresum at 0x7f18e2560730> from -0.0 to -0.0\n",
      "INFO:eye_doctor:Mode 3: Optimized mode coefficient from 1.0 to nan microns\n",
      "INFO:eye_doctor:Mode 3: Optimized metric <function get_image_coresum at 0x7f18e2560730> from -0.0 to -0.0\n",
      "INFO:eye_doctor:Mode 4: Optimized mode coefficient from 1.0 to nan microns\n",
      "INFO:eye_doctor:Mode 4: Optimized metric <function get_image_coresum at 0x7f18e2560730> from -0.0 to -0.0\n",
      "INFO:eye_doctor:Mode 5: Optimized mode coefficient from 1.0 to nan microns\n",
      "INFO:eye_doctor:Mode 5: Optimized metric <function get_image_coresum at 0x7f18e2560730> from -0.0 to -0.0\n",
      "INFO:eye_doctor:Mode 2: Optimized mode coefficient from 1.0 to nan microns\n",
      "INFO:eye_doctor:Mode 2: Optimized metric <function get_image_coresum at 0x7f18e2560730> from -0.0 to -0.0\n",
      "INFO:eye_doctor:Mode 3: Optimized mode coefficient from 1.0 to nan microns\n",
      "INFO:eye_doctor:Mode 3: Optimized metric <function get_image_coresum at 0x7f18e2560730> from -0.0 to -0.0\n"
     ]
    }
   ],
   "source": [
    "eye_doctor.eye_doctor_comprehensive(client, 'wooferModes', shmim, 3, modes=[3,4,5,2],\n",
    "                                     metric=eye_doctor.get_image_coresum, metric_dict={'radius' : 10})"
   ]
  },
  {
   "cell_type": "markdown",
   "metadata": {},
   "source": [
    "write out the optimized flat from the DM shared memory image"
   ]
  },
  {
   "cell_type": "code",
   "execution_count": 4,
   "metadata": {},
   "outputs": [
    {
     "ename": "RuntimeError",
     "evalue": "Could not open shared memory image \"dm00disp00\"!",
     "output_type": "error",
     "traceback": [
      "\u001b[0;31m---------------------------------------------------------------------------\u001b[0m",
      "\u001b[0;31mRuntimeError\u001b[0m                              Traceback (most recent call last)",
      "\u001b[0;32m<ipython-input-4-7d965645d4f7>\u001b[0m in \u001b[0;36m<module>\u001b[0;34m\u001b[0m\n\u001b[0;32m----> 1\u001b[0;31m \u001b[0meye_doctor\u001b[0m\u001b[0;34m.\u001b[0m\u001b[0mwrite_new_flat\u001b[0m\u001b[0;34m(\u001b[0m\u001b[0;34m'woofer'\u001b[0m\u001b[0;34m,\u001b[0m \u001b[0mupdate_symlink\u001b[0m\u001b[0;34m=\u001b[0m\u001b[0;32mFalse\u001b[0m\u001b[0;34m)\u001b[0m\u001b[0;34m\u001b[0m\u001b[0;34m\u001b[0m\u001b[0m\n\u001b[0m",
      "\u001b[0;32m/vagrant/vm/magpyx/magpyx/dm/eye_doctor.py\u001b[0m in \u001b[0;36mwrite_new_flat\u001b[0;34m(dm, filename, update_symlink)\u001b[0m\n\u001b[1;32m    777\u001b[0m     \u001b[0;32mimport\u001b[0m \u001b[0margparse\u001b[0m\u001b[0;34m\u001b[0m\u001b[0;34m\u001b[0m\u001b[0m\n\u001b[1;32m    778\u001b[0m \u001b[0;34m\u001b[0m\u001b[0m\n\u001b[0;32m--> 779\u001b[0;31m     \u001b[0mparser\u001b[0m \u001b[0;34m=\u001b[0m \u001b[0margparse\u001b[0m\u001b[0;34m.\u001b[0m\u001b[0mArgumentParser\u001b[0m\u001b[0;34m(\u001b[0m\u001b[0;34m)\u001b[0m\u001b[0;34m\u001b[0m\u001b[0;34m\u001b[0m\u001b[0m\n\u001b[0m\u001b[1;32m    780\u001b[0m     \u001b[0mparser\u001b[0m\u001b[0;34m.\u001b[0m\u001b[0madd_argument\u001b[0m\u001b[0;34m(\u001b[0m\u001b[0;34m'portINDI'\u001b[0m\u001b[0;34m,\u001b[0m \u001b[0mtype\u001b[0m\u001b[0;34m=\u001b[0m\u001b[0mint\u001b[0m\u001b[0;34m,\u001b[0m \u001b[0mdefault\u001b[0m\u001b[0;34m=\u001b[0m\u001b[0;36m7624\u001b[0m\u001b[0;34m,\u001b[0m \u001b[0mhelp\u001b[0m\u001b[0;34m=\u001b[0m\u001b[0;34m'INDI Port'\u001b[0m\u001b[0;34m)\u001b[0m\u001b[0;34m\u001b[0m\u001b[0;34m\u001b[0m\u001b[0m\n\u001b[1;32m    781\u001b[0m     \u001b[0mparser\u001b[0m\u001b[0;34m.\u001b[0m\u001b[0madd_argument\u001b[0m\u001b[0;34m(\u001b[0m\u001b[0;34m'device'\u001b[0m\u001b[0;34m,\u001b[0m \u001b[0mtype\u001b[0m\u001b[0;34m=\u001b[0m\u001b[0mstr\u001b[0m\u001b[0;34m,\u001b[0m \u001b[0mhelp\u001b[0m\u001b[0;34m=\u001b[0m\u001b[0;34m'INDI device with dm modes. [wooferModes, ncpcModes, tweeterModes]'\u001b[0m\u001b[0;34m)\u001b[0m\u001b[0;34m\u001b[0m\u001b[0;34m\u001b[0m\u001b[0m\n",
      "\u001b[0;32m/vagrant/vm/magpyx/magpyx/utils.py\u001b[0m in \u001b[0;36m__init__\u001b[0;34m(self, name)\u001b[0m\n\u001b[1;32m     85\u001b[0m         \u001b[0mself\u001b[0m\u001b[0;34m.\u001b[0m\u001b[0mopen\u001b[0m\u001b[0;34m(\u001b[0m\u001b[0mname\u001b[0m\u001b[0;34m)\u001b[0m\u001b[0;34m\u001b[0m\u001b[0;34m\u001b[0m\u001b[0m\n\u001b[1;32m     86\u001b[0m         \u001b[0;32mif\u001b[0m \u001b[0mself\u001b[0m\u001b[0;34m.\u001b[0m\u001b[0mmemsize\u001b[0m \u001b[0;34m==\u001b[0m \u001b[0;36m0\u001b[0m\u001b[0;34m:\u001b[0m\u001b[0;34m\u001b[0m\u001b[0;34m\u001b[0m\u001b[0m\n\u001b[0;32m---> 87\u001b[0;31m             \u001b[0;32mraise\u001b[0m \u001b[0mRuntimeError\u001b[0m\u001b[0;34m(\u001b[0m\u001b[0;34mf'Could not open shared memory image \"{name}\"!'\u001b[0m\u001b[0;34m)\u001b[0m\u001b[0;34m\u001b[0m\u001b[0;34m\u001b[0m\u001b[0m\n\u001b[0m\u001b[1;32m     88\u001b[0m         \u001b[0mself\u001b[0m\u001b[0;34m.\u001b[0m\u001b[0mbuffer\u001b[0m \u001b[0;34m=\u001b[0m \u001b[0mnp\u001b[0m\u001b[0;34m.\u001b[0m\u001b[0marray\u001b[0m\u001b[0;34m(\u001b[0m\u001b[0mself\u001b[0m\u001b[0;34m,\u001b[0m \u001b[0mcopy\u001b[0m\u001b[0;34m=\u001b[0m\u001b[0;32mFalse\u001b[0m\u001b[0;34m)\u001b[0m\u001b[0;34m.\u001b[0m\u001b[0mT\u001b[0m\u001b[0;34m\u001b[0m\u001b[0;34m\u001b[0m\u001b[0m\n\u001b[1;32m     89\u001b[0m         \u001b[0mself\u001b[0m\u001b[0;34m.\u001b[0m\u001b[0mnaxis\u001b[0m \u001b[0;34m=\u001b[0m \u001b[0mself\u001b[0m\u001b[0;34m.\u001b[0m\u001b[0mmd\u001b[0m\u001b[0;34m.\u001b[0m\u001b[0mnaxis\u001b[0m\u001b[0;34m\u001b[0m\u001b[0;34m\u001b[0m\u001b[0m\n",
      "\u001b[0;31mRuntimeError\u001b[0m: Could not open shared memory image \"dm00disp00\"!"
     ]
    }
   ],
   "source": [
    "eye_doctor.write_new_flat('woofer', update_symlink=False)"
   ]
  },
  {
   "cell_type": "code",
   "execution_count": null,
   "metadata": {},
   "outputs": [],
   "source": []
  }
 ],
 "metadata": {
  "kernelspec": {
   "display_name": "Python 3",
   "language": "python",
   "name": "python3"
  },
  "language_info": {
   "codemirror_mode": {
    "name": "ipython",
    "version": 3
   },
   "file_extension": ".py",
   "mimetype": "text/x-python",
   "name": "python",
   "nbconvert_exporter": "python",
   "pygments_lexer": "ipython3",
   "version": "3.7.3"
  }
 },
 "nbformat": 4,
 "nbformat_minor": 4
}
